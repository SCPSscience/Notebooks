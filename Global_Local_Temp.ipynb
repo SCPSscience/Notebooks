{
 "cells": [
  {
   "cell_type": "markdown",
   "metadata": {},
   "source": [
    "# Global & Local Temperature\n",
    "This example uses historical data since 1880 on average global surface temperature changes from [NASA's GISS Surface Temperature Analysis (GISTEMP)](http://data.giss.nasa.gov/gistemp/) ([original file](http://data.giss.nasa.gov/gistemp/tabledata_v3/GLB.Ts+dSST.csv)) That site has lots of other data sets in csv format, too.\n",
    "\n",
    "Click the \"play\" icon or press shift+enter to execute each cell."
   ]
  },
  {
   "cell_type": "code",
   "execution_count": null,
   "metadata": {
    "collapsed": false
   },
   "outputs": [],
   "source": [
    "# import the software packages needed\n",
    "import pandas as pd\n",
    "import numpy as np\n",
    "%matplotlib inline\n",
    "import matplotlib as mpl\n",
    "import matplotlib.pyplot as plt\n",
    "inline_rc = dict(mpl.rcParams)\n",
    "import datetime as dt\n",
    "import matplotlib.dates as mdates"
   ]
  },
  {
   "cell_type": "markdown",
   "metadata": {},
   "source": [
    "## Importing a data set\n",
    "\n",
    "This next cell may take a little while to run if it's grabbing a pretty big data set. The cell label to the left will look like \"In [\\*]\" while it's still thinking and \"In [2]\" when it's finished."
   ]
  },
  {
   "cell_type": "code",
   "execution_count": null,
   "metadata": {
    "collapsed": false
   },
   "outputs": [],
   "source": [
    "# Combined land and ocean temperature averages (LOTI: Land Ocean Temperature Index)\n",
    "data1 = pd.read_csv('http://github.com/adamlamee/CODINGinK12-data/raw/master/LOTI.csv', header=1).replace(to_replace=\"***\", value=np.NaN)\n",
    "data_LOTI = data1.apply(lambda x: pd.to_numeric(x, errors='ignore'))\n",
    "\n",
    "# Only land temperature averages\n",
    "data2 = pd.read_csv('http://github.com/adamlamee/CODINGinK12-data/raw/master/LAND.csv', header=1).replace(to_replace=\"***\", value=np.NaN)\n",
    "data_LAND = data2.apply(lambda x: pd.to_numeric(x, errors='ignore'))\n",
    "\n",
    "data3 = pd.read_csv('./Orlando Temps.csv')\n",
    "#data3 = pd.read_csv(https://gist.githubusercontent.com/GoodmanSciences/9953c23049f7814c0d26b5a49a5375f3/raw/72423fbdf5c54e14083d30bbbfccea79553f8025/Orlando%2520Temps.csv)\n",
    "\n",
    "dates = ['1/1/1975','1/2/1975','01/3/1975']\n",
    "x = [dt.datetime.strptime(d,'%m/%d/%Y').date() for d in dates]\n",
    "y = \"range(len(x))\""
   ]
  },
  {
   "cell_type": "markdown",
   "metadata": {},
   "source": [
    "## PART 1: Local Temperature Changes & Climate\n",
    "We can view the first few rows of the file we just imported."
   ]
  },
  {
   "cell_type": "code",
   "execution_count": null,
   "metadata": {
    "collapsed": false
   },
   "outputs": [],
   "source": [
    "# The .head(n) command displays the first n rows of the local temperature data file.\n",
    "data3.head(4)\n"
   ]
  },
  {
   "cell_type": "code",
   "execution_count": null,
   "metadata": {
    "collapsed": false
   },
   "outputs": [],
   "source": [
    "data3.columns"
   ]
  },
  {
   "cell_type": "code",
   "execution_count": null,
   "metadata": {
    "collapsed": false,
    "scrolled": true
   },
   "outputs": [],
   "source": [
    "ax = data3.plot('date', 'avg', title=\"Average Temperature at Orlando International Airport (1975 - Present)\", legend=False)\n",
    "ax.set(xlabel=\"Date\", ylabel=\"Average Temperature (Fahrenheit)\")\n",
    "\n",
    "\n",
    "# Get current size\n",
    "fig_size = plt.rcParams[\"figure.figsize\"]\n",
    " \n",
    "# Prints: [8.0, 6.0]\n",
    "print( \"Current size:\", fig_size)\n",
    " \n",
    "# Set figure width to 20 and height to 6.5\n",
    "fig_size[0] = 20\n",
    "fig_size[1] = 6.5\n",
    "plt.rcParams[\"figure.figsize\"] = fig_size\n",
    "\n",
    "plt.show()"
   ]
  },
  {
   "cell_type": "markdown",
   "metadata": {},
   "source": [
    "## PART 2: Global Temperature Changes & Climate"
   ]
  },
  {
   "cell_type": "code",
   "execution_count": null,
   "metadata": {
    "collapsed": false,
    "scrolled": true
   },
   "outputs": [],
   "source": [
    "# The .head(n) command displays the first n rows of the file.\n",
    "data_LAND.head(5)"
   ]
  },
  {
   "cell_type": "code",
   "execution_count": null,
   "metadata": {
    "collapsed": false
   },
   "outputs": [],
   "source": [
    "x1 = data_LOTI.Year\n",
    "y1 = data_LOTI.JanDec\n",
    "\n",
    "# plt.plot() makes a line graph, by default\n",
    "fig = plt.figure(figsize=(10, 5))\n",
    "plt.plot(x1, y1)\n",
    "plt.title('Average land an docean temperature readings')\n",
    "plt.xlabel('Year')\n",
    "plt.ylabel('Percent temp change')"
   ]
  },
  {
   "cell_type": "code",
   "execution_count": null,
   "metadata": {
    "collapsed": false
   },
   "outputs": [],
   "source": [
    "x2 = data_LAND.Year\n",
    "y2 = data_LAND.JanDec\n",
    "\n",
    "# plt.plot() makes a line graph, by default\n",
    "fig = plt.figure(figsize=(10, 5))\n",
    "plt.plot(x2, y2)\n",
    "plt.title('Land temperature readings')\n",
    "plt.xlabel('Year')\n",
    "plt.ylabel('Percent temp change')"
   ]
  },
  {
   "cell_type": "code",
   "execution_count": null,
   "metadata": {
    "collapsed": false
   },
   "outputs": [],
   "source": [
    "# Wow, this needs a title and axis labels!\n",
    "fig = plt.figure(figsize=(10, 5))\n",
    "plt.plot(x1, y1, label=\"Land and Ocean\")\n",
    "plt.plot(x2, y2, label=\"Land only\")\n",
    "\n",
    "\n",
    "plt.legend()\n",
    "plt.show()"
   ]
  },
  {
   "cell_type": "markdown",
   "metadata": {
    "collapsed": true
   },
   "source": [
    "Try editing some code and re-running the cell to see the effects. For more information on formatting the markdown text in a cell like this one, go to Help > Markdown > Basic Writing and Formatting Text.\n",
    "\n",
    "To save your work: go to File > Save and Checkpoint. That only saves your edits as long as you're working inthis notebook. All is lost after 10 minutes of inactivity.\n",
    "\n",
    "To really save your work: go to File > Download as > iPython notebook (or save as pdf if you just want to show someone a snapshot of what your code and output look like."
   ]
  },
  {
   "cell_type": "markdown",
   "metadata": {},
   "source": [
    "## References\n",
    "- GISTEMP Team, 2017: GISS Surface Temperature Analysis (GISTEMP). NASA Goddard Institute for Space Studies. Dataset accessed 20YY-MM-DD at [https://data.giss.nasa.gov/gistemp/](https://data.giss.nasa.gov/gistemp/).\n",
    "- Hansen, J., R. Ruedy, M. Sato, and K. Lo, 2010: [Global surface temperature change](https://pubs.giss.nasa.gov/abs/ha00510u.html), Rev. Geophys., 48, RG4004, doi:10.1029/2010RG000345.\n"
   ]
  }
 ],
 "metadata": {
  "kernelspec": {
   "display_name": "Python [Root]",
   "language": "python",
   "name": "Python [Root]"
  },
  "language_info": {
   "codemirror_mode": {
    "name": "ipython",
    "version": 3
   },
   "file_extension": ".py",
   "mimetype": "text/x-python",
   "name": "python",
   "nbconvert_exporter": "python",
   "pygments_lexer": "ipython3",
   "version": "3.5.2"
  }
 },
 "nbformat": 4,
 "nbformat_minor": 0
}
