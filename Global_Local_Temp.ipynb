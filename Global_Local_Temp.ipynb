{
 "cells": [
  {
   "cell_type": "markdown",
   "metadata": {},
   "source": [
    "# Global & Local Temperature\n",
    "This example uses historical data since 1880 on average global surface temperature changes from [NASA's GISS Surface Temperature Analysis (GISTEMP)](http://data.giss.nasa.gov/gistemp/) ([original file](http://data.giss.nasa.gov/gistemp/tabledata_v3/GLB.Ts+dSST.csv)) That site has lots of other data sets in csv format, too.\n",
    "#### Step 1: Click on the \"Save Icon\". If you have a problem and need to completely restart, then click \"File\" and \"Revert to Checkpoint\" to reset.\n",
    "\n",
    "Click the \"play\" icon or press shift+enter to execute each cell."
   ]
  },
  {
   "cell_type": "code",
   "execution_count": 7,
   "metadata": {
    "collapsed": false
   },
   "outputs": [],
   "source": [
    "# import the software packages needed\n",
    "import pandas as pd\n",
    "import numpy as np\n",
    "%matplotlib inline\n",
    "import matplotlib as mpl\n",
    "import matplotlib.pyplot as plt\n",
    "inline_rc = dict(mpl.rcParams)\n",
    "import datetime as dt\n",
    "import matplotlib.dates as mdates"
   ]
  },
  {
   "cell_type": "markdown",
   "metadata": {},
   "source": [
    "## Importing a data set\n",
    "\n",
    "This next cell may take a little while to run if it's grabbing a pretty big data set. The cell label to the left will look like \"In [\\*]\" while it's still thinking and \"In [2]\" when it's finished."
   ]
  },
  {
   "cell_type": "code",
   "execution_count": 5,
   "metadata": {
    "collapsed": false
   },
   "outputs": [],
   "source": [
    "# Combined land and ocean temperature averages (LOTI: Land Ocean Temperature Index)\n",
    "data1 = pd.read_csv('http://github.com/adamlamee/CODINGinK12-data/raw/master/LOTI.csv', header=1).replace(to_replace=\"***\", value=np.NaN)\n",
    "data_LOTI = data1.apply(lambda x: pd.to_numeric(x, errors='ignore'))\n",
    "\n",
    "# Only land temperature averages\n",
    "data2 = pd.read_csv('http://github.com/adamlamee/CODINGinK12-data/raw/master/LAND.csv', header=1).replace(to_replace=\"***\", value=np.NaN)\n",
    "data_LAND = data2.apply(lambda x: pd.to_numeric(x, errors='ignore'))\n",
    "\n",
    "# Temperature Data for Orlando, Florida\n",
    "data3 = pd.read_csv('http://github.com/scpsscience/data/raw/master/Orlando_Temps.csv')\n",
    "\n",
    "dates = ['1/1/1975','1/2/1975','01/3/1975']\n",
    "x = [dt.datetime.strptime(d,'%m/%d/%Y').date() for d in dates]\n",
    "y = \"range(len(x))\""
   ]
  },
  {
   "cell_type": "markdown",
   "metadata": {},
   "source": [
    "## PART 1: Local Temperature Changes & Climate\n",
    "We can view the first few rows of the file we just imported."
   ]
  },
  {
   "cell_type": "code",
   "execution_count": 6,
   "metadata": {
    "collapsed": false
   },
   "outputs": [
    {
     "data": {
      "text/html": [
       "<div>\n",
       "<table border=\"1\" class=\"dataframe\">\n",
       "  <thead>\n",
       "    <tr style=\"text-align: right;\">\n",
       "      <th></th>\n",
       "      <th>date</th>\n",
       "      <th>low</th>\n",
       "      <th>high</th>\n",
       "      <th>avg</th>\n",
       "      <th>precipitation</th>\n",
       "    </tr>\n",
       "  </thead>\n",
       "  <tbody>\n",
       "    <tr>\n",
       "      <th>0</th>\n",
       "      <td>1/1/1975</td>\n",
       "      <td>63.0</td>\n",
       "      <td>82.0</td>\n",
       "      <td>72.5</td>\n",
       "      <td>0.0</td>\n",
       "    </tr>\n",
       "    <tr>\n",
       "      <th>1</th>\n",
       "      <td>1/2/1975</td>\n",
       "      <td>57.0</td>\n",
       "      <td>73.0</td>\n",
       "      <td>65.0</td>\n",
       "      <td>0.0</td>\n",
       "    </tr>\n",
       "    <tr>\n",
       "      <th>2</th>\n",
       "      <td>1/3/1975</td>\n",
       "      <td>52.0</td>\n",
       "      <td>78.0</td>\n",
       "      <td>65.0</td>\n",
       "      <td>0.0</td>\n",
       "    </tr>\n",
       "    <tr>\n",
       "      <th>3</th>\n",
       "      <td>1/4/1975</td>\n",
       "      <td>60.0</td>\n",
       "      <td>82.0</td>\n",
       "      <td>71.0</td>\n",
       "      <td>0.0</td>\n",
       "    </tr>\n",
       "  </tbody>\n",
       "</table>\n",
       "</div>"
      ],
      "text/plain": [
       "       date   low  high   avg  precipitation\n",
       "0  1/1/1975  63.0  82.0  72.5            0.0\n",
       "1  1/2/1975  57.0  73.0  65.0            0.0\n",
       "2  1/3/1975  52.0  78.0  65.0            0.0\n",
       "3  1/4/1975  60.0  82.0  71.0            0.0"
      ]
     },
     "execution_count": 6,
     "metadata": {},
     "output_type": "execute_result"
    }
   ],
   "source": [
    "# The .head(n) command displays the first n rows of the local temperature data file.\n",
    "data3.head(4)\n"
   ]
  },
  {
   "cell_type": "code",
   "execution_count": null,
   "metadata": {
    "collapsed": false
   },
   "outputs": [],
   "source": [
    "data3.columns"
   ]
  },
  {
   "cell_type": "code",
   "execution_count": null,
   "metadata": {
    "collapsed": false,
    "scrolled": true
   },
   "outputs": [],
   "source": [
    "ax = data3.plot('date', 'avg', title=\"Average Temperature at Orlando International Airport (1975 - Present)\", legend=False)\n",
    "ax.set(xlabel=\"Date\", ylabel=\"Average Temperature (Fahrenheit)\")\n",
    "\n",
    "\n",
    "# Get current size\n",
    "fig_size = plt.rcParams[\"figure.figsize\"]\n",
    " \n",
    "# Prints: [8.0, 6.0]\n",
    "print( \"Current size:\", fig_size)\n",
    " \n",
    "# Set figure width to 20 and height to 6.5\n",
    "fig_size[0] = 20\n",
    "fig_size[1] = 6.5\n",
    "plt.rcParams[\"figure.figsize\"] = fig_size\n",
    "\n",
    "plt.show()"
   ]
  },
  {
   "cell_type": "markdown",
   "metadata": {},
   "source": [
    "## PART 2: Global Temperature Changes & Climate"
   ]
  },
  {
   "cell_type": "code",
   "execution_count": null,
   "metadata": {
    "collapsed": false,
    "scrolled": true
   },
   "outputs": [],
   "source": [
    "# The .head(n) command displays the first n rows of the file.\n",
    "data_LAND.head(5)"
   ]
  },
  {
   "cell_type": "code",
   "execution_count": null,
   "metadata": {
    "collapsed": false
   },
   "outputs": [],
   "source": [
    "x1 = data_LOTI.Year\n",
    "y1 = data_LOTI.JanDec\n",
    "\n",
    "# plt.plot() makes a line graph, by default\n",
    "fig = plt.figure(figsize=(10, 5))\n",
    "plt.plot(x1, y1)\n",
    "plt.title('Average land an docean temperature readings')\n",
    "plt.xlabel('Year')\n",
    "plt.ylabel('Percent temp change')"
   ]
  },
  {
   "cell_type": "code",
   "execution_count": null,
   "metadata": {
    "collapsed": false
   },
   "outputs": [],
   "source": [
    "x2 = data_LAND.Year\n",
    "y2 = data_LAND.JanDec\n",
    "\n",
    "# plt.plot() makes a line graph, by default\n",
    "fig = plt.figure(figsize=(10, 5))\n",
    "plt.plot(x2, y2)\n",
    "plt.title('Land temperature readings')\n",
    "plt.xlabel('Year')\n",
    "plt.ylabel('Percent temp change')"
   ]
  },
  {
   "cell_type": "code",
   "execution_count": null,
   "metadata": {
    "collapsed": false
   },
   "outputs": [],
   "source": [
    "# Wow, this needs a title and axis labels!\n",
    "fig = plt.figure(figsize=(10, 5))\n",
    "plt.plot(x1, y1, label=\"Land and Ocean\")\n",
    "plt.plot(x2, y2, label=\"Land only\")\n",
    "\n",
    "\n",
    "plt.legend()\n",
    "plt.show()"
   ]
  },
  {
   "cell_type": "markdown",
   "metadata": {
    "collapsed": true
   },
   "source": [
    "Try editing some code and re-running the cell to see the effects. For more information on formatting the markdown text in a cell like this one, go to Help > Markdown > Basic Writing and Formatting Text.\n",
    "\n",
    "To save your work: go to File > Save and Checkpoint. That only saves your edits as long as you're working inthis notebook. All is lost after 10 minutes of inactivity.\n",
    "\n",
    "To really save your work: go to File > Download as > iPython notebook (or save as pdf if you just want to show someone a snapshot of what your code and output look like."
   ]
  },
  {
   "cell_type": "markdown",
   "metadata": {},
   "source": [
    "## References\n",
    "- GISTEMP Team, 2017: GISS Surface Temperature Analysis (GISTEMP). NASA Goddard Institute for Space Studies. Dataset accessed 20YY-MM-DD at [https://data.giss.nasa.gov/gistemp/](https://data.giss.nasa.gov/gistemp/).\n",
    "- Hansen, J., R. Ruedy, M. Sato, and K. Lo, 2010: [Global surface temperature change](https://pubs.giss.nasa.gov/abs/ha00510u.html), Rev. Geophys., 48, RG4004, doi:10.1029/2010RG000345.\n"
   ]
  }
 ],
 "metadata": {
  "kernelspec": {
   "display_name": "Python 3",
   "language": "python",
   "name": "python3"
  },
  "language_info": {
   "codemirror_mode": {
    "name": "ipython",
    "version": 3
   },
   "file_extension": ".py",
   "mimetype": "text/x-python",
   "name": "python",
   "nbconvert_exporter": "python",
   "pygments_lexer": "ipython3",
   "version": "3.6.0"
  }
 },
 "nbformat": 4,
 "nbformat_minor": 0
}
