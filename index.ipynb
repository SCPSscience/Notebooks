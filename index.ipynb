{
 "cells": [
  {
   "cell_type": "markdown",
   "metadata": {},
   "source": [
    "# Going Rogue Jupyter Notebooks\n",
    "\n",
    "\n",
    "- [Intro to Jupyter](./Intro_to_Jupyter.ipynb) is a 5-minute guide of how to use our activities. If you've never programmed before, this is a great place to start. From CodinginK12.org.\n",
    "\n",
    "### 6th Grade Jupyter Notebooks\n",
    "- [Periodic Trends](./Periodic_Trends.ipynb) Unit 1 - Hierarchy of Organisms (Atoms & Molecules)\n",
    "- [Classification of Organisms](./Classification of Organisms.ipynb) Unit 2 - Variation (Domains & Kingdoms)\n",
    "- [Florida's Water Budget](./Floridas_Water_Budget.ipynb) Unit 3 - Homeostasis (in Ecosystems)\n",
    "\n",
    "### 7th Grade Juypter Notebooks\n",
    "- [Erosion](./ErosionFinal.ipynb) Unit 1 - Change Over Time (Weathering & Erosion)\n",
    "- [Global & Local Temperature](./GlobalLocalTemp.ipynb) - Unit 2 - Interactions of Spheres (Atmosphere & Hydrosphere) \n",
    "- [Properties of Stars](./PropertiesofStars.ipynb) Unit 3 -  Beyond Our World\n"
   ]
  },
  {
   "cell_type": "code",
   "execution_count": null,
   "metadata": {
    "collapsed": true
   },
   "outputs": [],
   "source": []
  }
 ],
 "metadata": {
  "kernelspec": {
   "display_name": "Python 3",
   "language": "python",
   "name": "python3"
  },
  "language_info": {
   "codemirror_mode": {
    "name": "ipython",
    "version": 3
   },
   "file_extension": ".py",
   "mimetype": "text/x-python",
   "name": "python",
   "nbconvert_exporter": "python",
   "pygments_lexer": "ipython3",
   "version": "3.6.0"
  }
 },
 "nbformat": 4,
 "nbformat_minor": 0
}
