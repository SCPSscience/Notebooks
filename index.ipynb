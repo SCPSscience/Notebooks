{
 "cells": [
  {
   "cell_type": "markdown",
   "metadata": {},
   "source": [
    "# Going Rogue Jupyter Notebooks\n",
    "\n",
    "\n",
    "## <span style=\"color:blue\">beta.mybinder.org/repo/SCPSscience/Notebooks</span>\n",
    "\n",
    ">### [Jupyter Notebooks Help Guide](http://tinyurl.com/jupyterhelp)\n",
    "[Student Quick Start Guide](https://github.com/SCPSscience/booklet/raw/master/JupyterNotebooksStudentGuide.pdf)\n",
    "\n",
    ">[Intro to Jupyter](./Intro_to_Jupyter.ipynb) A 5-minute guide of how to use Jupyter Notebooks. If you've never programmed before, this is a great place to start. From CodinginK12.org and Adam LaMee at UCF.\n",
    "\n",
    "### 6th Grade Jupyter Notebooks\n",
    "- [Periodic Trends](./Periodic_Trends.ipynb) Unit 1 - Hierarchy of Organisms (Atoms & Molecules)\n",
    "    [Periodic Trends Coding Booklet](https://github.com/SCPSscience/booklet/raw/master/PeriodicTrends.pdf) \n",
    "- [Classification of Organisms](./Classification.ipynb) Unit 2 - Variation (Domains & Kingdoms)\n",
    "    [Classification of Organisms Coding Booklet](https://github.com/SCPSscience/booklet/raw/master/Classification.pdf) \n",
    "- [Florida's Water Budget](./Floridas_Water_Budget.ipynb) Unit 3 - Homeostasis (in Ecosystems)\n",
    "    [Florida's Water Budget Coding Booklet](https://github.com/SCPSscience/booklet/raw/master/WaterBudget.pdf)\n",
    "\n",
    "### 7th Grade Juypter Notebooks\n",
    "- [Erosion](./ErosionFinal.ipynb) Unit 1 - Change Over Time (Weathering & Erosion) \n",
    "    [Erosion Coding Booklet](https://github.com/SCPSscience/booklet/raw/master/Erosion.pdf)\n",
    "- [Global & Local Temperature](./Global_Local_Temp.ipynb) - Unit 2 - Interactions of Spheres (Atmosphere & Hydrosphere) \n",
    "    [Global & Local Temperature Coding Booklet](https://github.com/SCPSscience/booklet/raw/master/Temps.pdf)\n",
    "- [Properties of Stars](./PropertiesofStars.ipynb) Unit 3 -  Beyond Our World\n",
    "    [Properties of Stars Coding Booklet](https://github.com/SCPSscience/booklet/raw/master/Stars.pdf)"
   ]
  }
 ],
 "metadata": {
  "kernelspec": {
   "display_name": "Python 3",
   "language": "python",
   "name": "python3"
  },
  "language_info": {
   "codemirror_mode": {
    "name": "ipython",
    "version": 3
   },
   "file_extension": ".py",
   "mimetype": "text/x-python",
   "name": "python",
   "nbconvert_exporter": "python",
   "pygments_lexer": "ipython3",
   "version": "3.6.0"
  }
 },
 "nbformat": 4,
 "nbformat_minor": 0
}
