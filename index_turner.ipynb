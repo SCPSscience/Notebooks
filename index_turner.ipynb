{
 "cells": [
  {
   "cell_type": "markdown",
   "metadata": {},
   "source": [
    "# 7th Grade Jupyter Notebooks\n",
    "\n",
    "\n",
    "## <span style=\"color:green\">beta.mybinder.org/repo/MilweeScience/Turner</span>\n",
    "\n",
    "![](https://www.fullstackpython.com/img/logos/jupyter.png)\n",
    "\n",
    "### What is Jupyter Notebooks?\n",
    "Jupyter Notebooks is a program that simplifies coding into “blocks” that allows code to be sectioned into chunks that are more easily\n",
    "interpreted and meaningful to students and teachers. Jupyter Notebooks also allows the use of section headings, in-code help\n",
    "comments, and easy reset options which make it a great tool for sharing code for others to manipulate and explore. Jupyter\n",
    "Notebooks uses a type of code called Python, this coding language is used in a wide variety of applications including- web\n",
    "development, app development, and most importantly- analysis of experimental results in scientific research.\n",
    "\n",
    "### Why are we doing this?\n",
    "\n",
    "This coding activity uses the same programing language and system used by many scientists around the world. The goal of this activity is to introduce you to the ways that coding is used in the real world. Organizations like CERN in Geneva, Switzerland use Jupyter Notebooks to analyze data from their particle colliders as they study the composition of atoms (other groups include- NASA, Google, & IBM). Each unit this year has a Jupyter Notebook associated with it, each explores different scientific concepts that are\n",
    "part of that unit for your practice and introduces you to new coding functions like creating graphs, customizing graphs, analyzing\n",
    "data, creating data charts, and sorting large amounts of information.\n",
    "\n",
    "Since this is the first time many of you will work with code, the changes you will be making are small. Others of you, who have coded before, will find opportunity to look into different ways code can be used. Each lesson provides an opportunity for “unstructured coding” where you can explore new ideas you might have or work with the information in a new way. Know that coding is often a community effort in which many people contribute, don’t be afraid to ask for help or offer it.\n",
    "\n",
    "### [Jupyter Notebooks Quick Start Guide](https://github.com/SCPSscience/booklet/raw/master/JupyterNotebooksStudentGuide.pdf)\n",
    "\n",
    "- [Intro to Jupyter](./Intro_to_Jupyter.ipynb) is a 5-minute guide of how to use our activities. If you've never programmed before, this is a great place to start. From CodinginK12.org and Adam LaMee at UCF.\n",
    "\n",
    "### Unit 1 - Change Over Time \n",
    "- [Weathering & Erosion](./ErosionFinal.ipynb) Unit 1 - Change Over Time (Weathering & Erosion) \n",
    "    [Erosion Coding Booklet](https://github.com/SCPSscience/booklet/raw/master/Erosion.pdf)\n",
    "\n",
    "####  \n",
    "\n",
    "![](http://www.onegeology.org/extra/kids/images/erosion.jpg)"
   ]
  },
  {
   "cell_type": "code",
   "execution_count": null,
   "metadata": {
    "collapsed": true
   },
   "outputs": [],
   "source": []
  }
 ],
 "metadata": {
  "kernelspec": {
   "display_name": "Python 3",
   "language": "python",
   "name": "python3"
  },
  "language_info": {
   "codemirror_mode": {
    "name": "ipython",
    "version": 3
   },
   "file_extension": ".py",
   "mimetype": "text/x-python",
   "name": "python",
   "nbconvert_exporter": "python",
   "pygments_lexer": "ipython3",
   "version": "3.6.0"
  }
 },
 "nbformat": 4,
 "nbformat_minor": 0
}
